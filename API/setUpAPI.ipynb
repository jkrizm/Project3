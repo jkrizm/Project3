{
 "cells": [
  {
   "cell_type": "code",
   "execution_count": 1,
   "metadata": {},
   "outputs": [],
   "source": [
    "import sqlalchemy\n",
    "from sqlalchemy.ext.automap import automap_base\n",
    "from sqlalchemy.orm import Session\n",
    "from sqlalchemy import create_engine, inspect"
   ]
  },
  {
   "cell_type": "code",
   "execution_count": 2,
   "metadata": {},
   "outputs": [],
   "source": [
    "engine = create_engine(\"sqlite:///SpotifyDB\")\n",
    "\n",
    "inspector = inspect(engine)"
   ]
  },
  {
   "cell_type": "code",
   "execution_count": 3,
   "metadata": {},
   "outputs": [
    {
     "data": {
      "text/plain": [
       "['spotify_data']"
      ]
     },
     "execution_count": 3,
     "metadata": {},
     "output_type": "execute_result"
    }
   ],
   "source": [
    "inspector.get_table_names()"
   ]
  },
  {
   "cell_type": "code",
   "execution_count": 4,
   "metadata": {},
   "outputs": [
    {
     "name": "stdout",
     "output_type": "stream",
     "text": [
      "id TEXT\n",
      "name TEXT\n",
      "decade TEXT\n",
      "danceability TEXT\n",
      "energy TEXT\n",
      "key TEXT\n",
      "loudness TEXT\n",
      "mode TEXT\n",
      "speechiness TEXT\n",
      "acousticness TEXT\n",
      "instrumentalness TEXT\n",
      "liveness TEXT\n",
      "valence TEXT\n",
      "tempo TEXT\n",
      "type TEXT\n",
      "uri TEXT\n",
      "track_href TEXT\n",
      "analysis_url TEXT\n",
      "duration_ms TEXT\n",
      "time_signature TEXT\n"
     ]
    }
   ],
   "source": [
    "columns = inspector.get_columns('spotify_data')\n",
    "for column in columns:\n",
    "    print(column[\"name\"], column[\"type\"])"
   ]
  }
 ],
 "metadata": {
  "kernelspec": {
   "display_name": "base",
   "language": "python",
   "name": "python3"
  },
  "language_info": {
   "codemirror_mode": {
    "name": "ipython",
    "version": 3
   },
   "file_extension": ".py",
   "mimetype": "text/x-python",
   "name": "python",
   "nbconvert_exporter": "python",
   "pygments_lexer": "ipython3",
   "version": "3.10.9"
  }
 },
 "nbformat": 4,
 "nbformat_minor": 2
}
